{
  "nbformat": 4,
  "nbformat_minor": 0,
  "metadata": {
    "colab": {
      "provenance": []
    },
    "kernelspec": {
      "name": "python3",
      "display_name": "Python 3"
    },
    "language_info": {
      "name": "python"
    }
  },
  "cells": [
    {
      "cell_type": "markdown",
      "metadata": {
        "id": "7j3AXNih5q-k"
      },
      "source": [
        "#### Assuntos\n",
        "- Tipos de variáveis\n",
        "- Comandos de entrada e saída\n",
        "- Comando Condicional"
      ]
    },
    {
      "cell_type": "markdown",
      "metadata": {
        "id": "8LAONhSBx9ZL"
      },
      "source": [
        "###Questão 1:\n",
        "\n",
        "Peça ao usuário um número inteiro como entrada e imprima se o número é PAR ou ÍMPAR."
      ]
    },
    {
      "cell_type": "code",
      "metadata": {
        "id": "wXqYmNrmyBQ-",
        "colab": {
          "base_uri": "https://localhost:8080/"
        },
        "outputId": "6ada73fb-82a2-4a1d-84cd-d84cb2824d1f"
      },
      "source": [
        "num = int(input())\n",
        "\n",
        "if num % 2 == 0 :\n",
        "  print(f\"{num} é par\")\n",
        "\n",
        "else:\n",
        "  print(f\"{num} é ímpar\")"
      ],
      "execution_count": null,
      "outputs": [
        {
          "output_type": "stream",
          "name": "stdout",
          "text": [
            "3\n",
            "3 é ímpar\n"
          ]
        }
      ]
    },
    {
      "cell_type": "markdown",
      "metadata": {
        "id": "SysOhxnZx7mb"
      },
      "source": [
        "### Questão 2:\n",
        "\n",
        "\n",
        "Escreva um programa que peça a data atual (dia, mês e ano como números inteiros) e peça a data de nascimento do usuário (dia, mês e ano como números inteiros). O programa deve imprimir a idade do usuário.\n",
        "\n"
      ]
    },
    {
      "cell_type": "code",
      "metadata": {
        "id": "jfxbMR21x0Ba",
        "colab": {
          "base_uri": "https://localhost:8080/"
        },
        "outputId": "b6403971-7656-496d-962d-f2526e9aa4fc"
      },
      "source": [
        "dia_atual, mes_atual, ano_atual = map(int, input(\"Digite a data atual entre espaços: \").split())\n",
        "dia_user, mes_user, ano_user = map(int, input(\"Digite a data de aniversario entre espaços: \").split())\n",
        "\n",
        "# 1 caso Dia atual é antes do dia de aniversario e mes atual antes do mes aniversario\n",
        "\n",
        "if (dia_atual < dia_user) and (mes_atual < mes_user) :\n",
        "  idade = ano_atual - ano_user\n",
        "  print(f\"A idade da pessoa é {idade - 1} anos\")\n",
        "\n",
        "# 2 caso Dia atual é antes do dia de aniversario e mes atual é depois ou igual ao do mes aniversario\n",
        "\n",
        "elif (dia_atual < dia_user) and (mes_atual >= mes_user):\n",
        "  idade = ano_atual - ano_user\n",
        "  print(f\"A idade da pessoa é {idade} anos\")\n",
        "\n",
        "# 3 caso Dia atual é depois ou igual ao dia de aniversario e mes atual antes ao do mes aniversario\n",
        "\n",
        "elif (dia_atual >= dia_user) and (mes_atual < mes_user):\n",
        "  idade = ano_atual - ano_user\n",
        "  print(f\"A idade da pessoa é {idade - 1} anos\")\n",
        "\n",
        "# 4 caso Dia atual é depois ou igual ao dia de aniversario e mes atual depois ou igual ao do mes aniversario\n",
        "\n",
        "elif (dia_atual >= dia_user) and (mes_atual >= mes_user):\n",
        "  idade = ano_atual - ano_user\n",
        "  print(f\"A idade da pessoa é {idade} anos\")"
      ],
      "execution_count": 62,
      "outputs": [
        {
          "output_type": "stream",
          "name": "stdout",
          "text": [
            "Digite a data atual entre espaços: 6 4 2023\n",
            "Digite a data de aniversario entre espaços: 7 4 2003\n",
            "A idade da pessoa é 20 anos\n"
          ]
        }
      ]
    },
    {
      "cell_type": "markdown",
      "metadata": {
        "id": "zctEO1LOyO7-"
      },
      "source": [
        "### Questão 3:\n",
        "\n",
        "Escreva um programa que verifique se um ponto está dentro de um círculo. Você deve receber dois inteiros (a,b) e um inteiro r que são a posição do centro da circunferência e o valor de seu raio respectivamente. Logo em seguida, você irá pedir o valor do ponto (x,y) que deve ser checado se está dentro ou fora da circunferência. Considere que se o ponto estiver exatamente em cima do bordo da circunferência ele é considerado dentro da circunferência.\n"
      ]
    },
    {
      "cell_type": "code",
      "metadata": {
        "id": "HUHxAR0tyRA0",
        "colab": {
          "base_uri": "https://localhost:8080/"
        },
        "outputId": "eef5c19f-f979-46b3-ce59-7278903a11cc"
      },
      "source": [
        "a, b = map(int, input(\"Digite as coordenadas do centro do círculo (a b): \").split())\n",
        "r = int(input(\"Digite o raio do círculo: \"))\n",
        "x, y = map(int, input(\"Digite as coordenadas do ponto (x y) a ser verificado: \").split())\n",
        "\n",
        "distancia = ((x - a)**2 + (y - b)**2) ** 0.5\n",
        "\n",
        "if distancia <= r:\n",
        "    print(f\"O ponto ({x}, {y}) está dentro do círculo.\")\n",
        "else:\n",
        "    print(f\"O ponto ({x}, {y}) está fora do círculo.\")"
      ],
      "execution_count": 41,
      "outputs": [
        {
          "output_type": "stream",
          "name": "stdout",
          "text": [
            "Digite as coordenadas do centro do círculo (a b): 3 4\n",
            "Digite o raio do círculo: 2\n",
            "Digite as coordenadas do ponto (x y) a ser verificado: -1 4\n",
            "O ponto (-1, 4) está fora do círculo.\n"
          ]
        }
      ]
    },
    {
      "cell_type": "markdown",
      "metadata": {
        "id": "MUNn-Shmy3PP"
      },
      "source": [
        "### Questão 4:\n",
        "\n",
        "Tendo como dados de entrada a altura (float) e o sexo (M ou F) de uma pessoa, construa um algoritmo que calcule seu peso esperado médio, utilizando as seguintes fórmulas:\n",
        "\n",
        "● para homens: (72.7 * h) – 58;\n",
        "\n",
        "● para mulheres: (62.1 * h) – 44.7."
      ]
    },
    {
      "cell_type": "code",
      "metadata": {
        "id": "INW0ci35zXm3",
        "colab": {
          "base_uri": "https://localhost:8080/"
        },
        "outputId": "4c5f1387-7c61-4683-d8a7-c6d13a1ce24e"
      },
      "source": [
        "altura = float(input(\"Altura: \"))\n",
        "sexo = input(\"Sexo: \")\n",
        "\n",
        "if sexo == \"M\" :\n",
        "  peso_medio = (72.7 * altura) - 58\n",
        "  print(f\"O peso médio dos Homens é {peso_medio:.2f}\")\n",
        "\n",
        "else:\n",
        "  peso_medio = (72.7 * altura) - 44.7\n",
        "  print(f\"O peso médio das Mulheres é {peso_medio:.2f}\")"
      ],
      "execution_count": null,
      "outputs": [
        {
          "output_type": "stream",
          "name": "stdout",
          "text": [
            "Altura: 1.86\n",
            "Sexo: M\n",
            "O peso médio dos Homens é 77.22\n"
          ]
        }
      ]
    },
    {
      "cell_type": "markdown",
      "metadata": {
        "id": "B3pYfUXIzd0_"
      },
      "source": [
        "### Questão 5:\n",
        "\n",
        "O IMC – Indice de Massa Corporal é um critério da Organização Mundial de Saúde para dar umaindicação sobre a condição de peso de uma pessoa adulta. A fórmula é IMC = $\\frac{\\text{peso}}{ \\text{altura}^2}$. Elabore um algoritmo que leia o peso e a altura de um adulto e mostre sua condição de acordo com a tabela abaixo.\n",
        "\n",
        "**IMC em adultos: Condição**\n",
        "\n",
        "Abaixo de 18,5: Abaixo do peso\n",
        "\n",
        "Entre 18,5 e 25: Peso normal\n",
        "\n",
        "Entre 25 e 30: Acima do peso\n",
        "\n",
        "Acima de 30: obeso"
      ]
    },
    {
      "cell_type": "code",
      "metadata": {
        "id": "zIZytEw-0APT",
        "colab": {
          "base_uri": "https://localhost:8080/"
        },
        "outputId": "2311f2b2-7b5d-4a5f-da10-2d7a3ba5c498"
      },
      "source": [
        "altura = float(input())\n",
        "peso = float(input())\n",
        "\n",
        "IMC = peso / altura ** 2\n",
        "\n",
        "if IMC < 18.5 :\n",
        "  print(IMC, \"Abaixo do peso\")\n",
        "elif IMC <= 25 and IMC >= 18.5 :\n",
        "  print(IMC, \"Peso normal\")\n",
        "elif (IMC <= 30) and (IMC >= 25) :\n",
        "  print(IMC, \"Acima do peso\")\n",
        "elif IMC > 30 :\n",
        "  print(IMC, \"Obeso\")"
      ],
      "execution_count": null,
      "outputs": [
        {
          "output_type": "stream",
          "name": "stdout",
          "text": [
            "1.85\n",
            "77\n",
            "22.498173849525198 Peso normal\n"
          ]
        }
      ]
    },
    {
      "cell_type": "markdown",
      "metadata": {
        "id": "jVYGRrlA0Bo_"
      },
      "source": [
        "### Questão 6:\n",
        "\n",
        "Escreva um algoritmo que leia as 3 notas obtidas por um aluno nas 3 verificações e a média dos exercícios que fazem parte da avaliação, e calcule a média de aproveitamento, usando a fórmula:\n",
        "MA := (nota1 + nota 2 * 2 + nota 3 * 3 + ME)/7\n",
        "\n",
        "A atribuição dos conceitos obedece a tabela abaixo. O algoritmo deve escrever suas notas, a média dos exercícios, a média de aproveitamento, o conceito correspondente e a mensagem 'Aprovado' se o conceito for A, B ou C, e 'Reprovado' se o conceito for D ou E.\n",
        "\n",
        "** Média de aproveitamento -> Conceito **\n",
        "\n",
        "$>=$ 90  -> A\n",
        "\n",
        "$>=$ 75 e $<$ 90 -> B\n",
        "\n",
        "$>=$ 60 e $<$ 75 -> C\n",
        "\n",
        "$>=$ 40 e $<$ 60 -> D\n",
        "\n",
        "$<$ 40 -> E"
      ]
    },
    {
      "cell_type": "code",
      "metadata": {
        "id": "rIWHad7r0uG5",
        "colab": {
          "base_uri": "https://localhost:8080/"
        },
        "outputId": "63acaaca-b6d8-446b-8093-1e3c0699f605"
      },
      "source": [
        "nota1 = float(input())\n",
        "nota2 = float(input())\n",
        "nota3 = float(input())\n",
        "ME = float(input())\n",
        "\n",
        "MA = ((nota1 + nota2 * 2 + nota3 * 3 + ME) / 7) * 10\n",
        "\n",
        "if MA >= 90 :\n",
        "  print(f\"a Média de aproveitamento foi {MA:.2f}\")\n",
        "  print(\"A\")\n",
        "\n",
        "elif (90 > MA >= 75):\n",
        "  print(f\"a Média de aproveitamento foi {MA:.2f}\")\n",
        "  print(\"B\")\n",
        "\n",
        "elif (75 > MA >= 60):\n",
        "  print(f\"a Média de aproveitamento foi {MA:.2f}\")\n",
        "  print(\"C\")\n",
        "\n",
        "elif (60 > MA >= 40):\n",
        "  print(f\"a Média de aproveitamento foi {MA:.2f}\")\n",
        "  print(\"D\")\n",
        "\n",
        "else:\n",
        "  print(f\"a Média de aproveitamento foi {MA:.2f}\")\n",
        "  print(\"E\")"
      ],
      "execution_count": 63,
      "outputs": [
        {
          "output_type": "stream",
          "name": "stdout",
          "text": [
            "4\n",
            "8\n",
            "7\n",
            "8\n",
            "a Média de aproveitamento foi 70.00\n",
            "C\n"
          ]
        }
      ]
    },
    {
      "cell_type": "markdown",
      "metadata": {
        "id": "qfj38C95yTh9"
      },
      "source": [
        "### Questão 7:\n",
        "\n",
        "Escreva um programa que funciona como uma calculadora para operações binárias (com dois operandos):\n",
        "O usuário deve dar os valores de ponto flutuante X e Y dos operandos e o tipo da operação (que pode ser “+”, “-”, “*”, “/”) como entrada.\n",
        "\n",
        "O programa deve imprimir na tela o cálculo da operação:\n",
        "X OPERACAO Y.\n",
        "\n"
      ]
    },
    {
      "cell_type": "code",
      "metadata": {
        "id": "Eg0uPo7EySD7",
        "colab": {
          "base_uri": "https://localhost:8080/"
        },
        "outputId": "b8cbc8f7-9c21-4889-fc10-0628be563b0a"
      },
      "source": [
        "# codigo vai aqui\n",
        "\n",
        "x = int(input())\n",
        "operador = input()\n",
        "y = int(input())\n",
        "\n",
        "if operador == \"+\" :\n",
        "  resultado = x + y\n",
        "  print(resultado)\n",
        "\n",
        "elif operador == \"-\" :\n",
        "  resultado = x - y\n",
        "  print(resultado)\n",
        "\n",
        "elif operador == \"/\" :\n",
        "  resultado = x / y\n",
        "  print(resultado)\n",
        "\n",
        "elif operador == \"*\" :\n",
        "  resultado = x * y\n",
        "  print(resultado)"
      ],
      "execution_count": 64,
      "outputs": [
        {
          "output_type": "stream",
          "name": "stdout",
          "text": [
            "20\n",
            "/\n",
            "2\n",
            "10.0\n"
          ]
        }
      ]
    }
  ]
}