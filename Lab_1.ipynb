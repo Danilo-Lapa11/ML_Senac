{
  "nbformat": 4,
  "nbformat_minor": 0,
  "metadata": {
    "colab": {
      "provenance": []
    },
    "kernelspec": {
      "name": "python3",
      "display_name": "Python 3"
    },
    "language_info": {
      "name": "python"
    }
  },
  "cells": [
    {
      "cell_type": "markdown",
      "metadata": {
        "id": "JlH5Cvoa5eJj"
      },
      "source": [
        "#### Assuntos do Laboratório 1:\n",
        "- Tipos de variáveis\n",
        "- Operações aritméticas\n",
        "- Operações lógicas\n"
      ]
    },
    {
      "cell_type": "markdown",
      "metadata": {
        "id": "pTsmyiWA5UK3"
      },
      "source": [
        "### Questão 0:\n",
        "Escreva um programa que declara a variável **x** com o valor inicial 10."
      ]
    },
    {
      "cell_type": "code",
      "metadata": {
        "id": "PLyJ6kWZ5cic"
      },
      "source": [
        "# codigo vai aqui\n",
        "x = 10\n",
        "x"
      ],
      "execution_count": null,
      "outputs": []
    },
    {
      "cell_type": "markdown",
      "metadata": {
        "id": "EMvmwDWswVo1"
      },
      "source": [
        "###Questao 1:\n",
        "\n",
        "Crie um programa que possua 4 variáveis (anoNascimento, anoAtual, idade, mesesVividos). anoNascimento será inicializada com o ano do seu nascimento, anoAtual será inicializada com o ano atual e a idade será o cálculo da diferença entre as duas variáveis anoAtual e anoNascimento, e mesesVividos armazenará a quantidade de meses vividos."
      ]
    },
    {
      "cell_type": "code",
      "metadata": {
        "id": "PMvN35cJvwWf",
        "colab": {
          "base_uri": "https://localhost:8080/"
        },
        "outputId": "884bbe08-03e4-463b-c6a3-6a6f46952894"
      },
      "source": [
        "#codigo vai aqui\n",
        "anoNascimento, anoAtual = 2003, 2023\n",
        "\n",
        "idade = anoAtual - anoNascimento\n",
        "\n",
        "meses = 12 * idade\n",
        "\n",
        "print(idade)\n",
        "print(meses)\n"
      ],
      "execution_count": null,
      "outputs": [
        {
          "output_type": "stream",
          "name": "stdout",
          "text": [
            "20\n",
            "240\n"
          ]
        }
      ]
    },
    {
      "cell_type": "markdown",
      "metadata": {
        "id": "eA61dQhWxPVU"
      },
      "source": [
        "### Questao 2:\n",
        "\n",
        "Faça um programa que considera que existem caminhões de vacina em Pernambuco que transportam  10283 vacinas em cada caminhão. Sabendo que há 2.493.219 que precisam ser vacinados, depois da viagem de quantos caminhões essa população estará vacinada?"
      ]
    },
    {
      "cell_type": "code",
      "metadata": {
        "id": "wDeAwoFhxb6D",
        "colab": {
          "base_uri": "https://localhost:8080/"
        },
        "outputId": "1ef3e42c-b975-402a-f3ae-276cf287b480"
      },
      "source": [
        "# codigo vai aqui\n",
        "vacina_por_caminhao = 10283\n",
        "caminhoes = (2493219 // vacina_por_caminhao) + 1\n",
        "\n",
        "caminhoes"
      ],
      "execution_count": null,
      "outputs": [
        {
          "output_type": "execute_result",
          "data": {
            "text/plain": [
              "243"
            ]
          },
          "metadata": {},
          "execution_count": 5
        }
      ]
    },
    {
      "cell_type": "markdown",
      "metadata": {
        "id": "dcqGWjtyxdRq"
      },
      "source": [
        "### Questão 3:\n",
        "\n",
        "Peça ao usuário 3 valores Booleanos (b1, b2, b3) e imprima o resultado da expressão (b1 and b2) or b3\n"
      ]
    },
    {
      "cell_type": "code",
      "metadata": {
        "id": "g4RlHMWnxgc2",
        "colab": {
          "base_uri": "https://localhost:8080/"
        },
        "outputId": "9bf044e6-3f2e-44f1-b18e-0427819b0eb9"
      },
      "source": [
        "#codigo vai aqui\n",
        "\n",
        "b1, b2, b3 = True, False, True\n",
        "\n",
        "resultado = (b1 and b2) or b3\n",
        "resultado"
      ],
      "execution_count": null,
      "outputs": [
        {
          "output_type": "execute_result",
          "data": {
            "text/plain": [
              "True"
            ]
          },
          "metadata": {},
          "execution_count": 6
        }
      ]
    },
    {
      "cell_type": "markdown",
      "metadata": {
        "id": "iUa6I3VaxdZT"
      },
      "source": [
        "### Questão 4:\n",
        "\n",
        "Escreva um programa que receba do usuário um número inteiro x de três dígitos (exemplo: 498) e imprima na tela um número contendo os dígitos invertidos de x (894). Use somente os operadores aritméticos vistos nessa aula.\n",
        "\n"
      ]
    },
    {
      "cell_type": "code",
      "metadata": {
        "id": "Df-myMkuxrAh",
        "colab": {
          "base_uri": "https://localhost:8080/"
        },
        "outputId": "c72df0b8-9ee4-487d-9252-3c10ef8734ec"
      },
      "source": [
        "# o codigo vai aqui\n",
        "x = 894\n",
        "\n",
        "u = x // 100\n",
        "d = (x // 10 ) % 10\n",
        "c = x % 10\n",
        "\n",
        "numero = c * 100 + d * 10 + u\n",
        "\n",
        "numero"
      ],
      "execution_count": 1,
      "outputs": [
        {
          "output_type": "execute_result",
          "data": {
            "text/plain": [
              "498"
            ]
          },
          "metadata": {},
          "execution_count": 1
        }
      ]
    }
  ]
}